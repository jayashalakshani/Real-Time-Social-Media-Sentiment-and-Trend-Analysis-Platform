{
  "nbformat": 4,
  "nbformat_minor": 0,
  "metadata": {
    "colab": {
      "provenance": [],
      "authorship_tag": "ABX9TyMkzUpkmw3TIF621zgsfgYh",
      "include_colab_link": true
    },
    "kernelspec": {
      "name": "python3",
      "display_name": "Python 3"
    },
    "language_info": {
      "name": "python"
    },
    "widgets": {
      "application/vnd.jupyter.widget-state+json": {
        "fd0febb5d70c40e9bee661a08570f72b": {
          "model_module": "@jupyter-widgets/controls",
          "model_name": "HBoxModel",
          "model_module_version": "1.5.0",
          "state": {
            "_dom_classes": [],
            "_model_module": "@jupyter-widgets/controls",
            "_model_module_version": "1.5.0",
            "_model_name": "HBoxModel",
            "_view_count": null,
            "_view_module": "@jupyter-widgets/controls",
            "_view_module_version": "1.5.0",
            "_view_name": "HBoxView",
            "box_style": "",
            "children": [
              "IPY_MODEL_a69d4707ff9348e6807672c36e1bbafc",
              "IPY_MODEL_3417074b3e8a4cb6850a9dc6a3fb8e23",
              "IPY_MODEL_b9ca8580d2024c5c9489e13bde106ff5"
            ],
            "layout": "IPY_MODEL_bf3062a60a8a461d9a850864dab700f9"
          }
        },
        "a69d4707ff9348e6807672c36e1bbafc": {
          "model_module": "@jupyter-widgets/controls",
          "model_name": "HTMLModel",
          "model_module_version": "1.5.0",
          "state": {
            "_dom_classes": [],
            "_model_module": "@jupyter-widgets/controls",
            "_model_module_version": "1.5.0",
            "_model_name": "HTMLModel",
            "_view_count": null,
            "_view_module": "@jupyter-widgets/controls",
            "_view_module_version": "1.5.0",
            "_view_name": "HTMLView",
            "description": "",
            "description_tooltip": null,
            "layout": "IPY_MODEL_7fd82bdd42b7403d80a4b6f88825ae17",
            "placeholder": "​",
            "style": "IPY_MODEL_f53eccb10073494b964cdb65358caa85",
            "value": "config.json: 100%"
          }
        },
        "3417074b3e8a4cb6850a9dc6a3fb8e23": {
          "model_module": "@jupyter-widgets/controls",
          "model_name": "FloatProgressModel",
          "model_module_version": "1.5.0",
          "state": {
            "_dom_classes": [],
            "_model_module": "@jupyter-widgets/controls",
            "_model_module_version": "1.5.0",
            "_model_name": "FloatProgressModel",
            "_view_count": null,
            "_view_module": "@jupyter-widgets/controls",
            "_view_module_version": "1.5.0",
            "_view_name": "ProgressView",
            "bar_style": "success",
            "description": "",
            "description_tooltip": null,
            "layout": "IPY_MODEL_d506f1ba889f4a009e987815b2132146",
            "max": 629,
            "min": 0,
            "orientation": "horizontal",
            "style": "IPY_MODEL_34ae30dbda3e41298c790721a0a0816d",
            "value": 629
          }
        },
        "b9ca8580d2024c5c9489e13bde106ff5": {
          "model_module": "@jupyter-widgets/controls",
          "model_name": "HTMLModel",
          "model_module_version": "1.5.0",
          "state": {
            "_dom_classes": [],
            "_model_module": "@jupyter-widgets/controls",
            "_model_module_version": "1.5.0",
            "_model_name": "HTMLModel",
            "_view_count": null,
            "_view_module": "@jupyter-widgets/controls",
            "_view_module_version": "1.5.0",
            "_view_name": "HTMLView",
            "description": "",
            "description_tooltip": null,
            "layout": "IPY_MODEL_1e7f185caca9400fb685ce530507418f",
            "placeholder": "​",
            "style": "IPY_MODEL_de32af441a9f4cedb8f625602e7dc316",
            "value": " 629/629 [00:00&lt;00:00, 25.5kB/s]"
          }
        },
        "bf3062a60a8a461d9a850864dab700f9": {
          "model_module": "@jupyter-widgets/base",
          "model_name": "LayoutModel",
          "model_module_version": "1.2.0",
          "state": {
            "_model_module": "@jupyter-widgets/base",
            "_model_module_version": "1.2.0",
            "_model_name": "LayoutModel",
            "_view_count": null,
            "_view_module": "@jupyter-widgets/base",
            "_view_module_version": "1.2.0",
            "_view_name": "LayoutView",
            "align_content": null,
            "align_items": null,
            "align_self": null,
            "border": null,
            "bottom": null,
            "display": null,
            "flex": null,
            "flex_flow": null,
            "grid_area": null,
            "grid_auto_columns": null,
            "grid_auto_flow": null,
            "grid_auto_rows": null,
            "grid_column": null,
            "grid_gap": null,
            "grid_row": null,
            "grid_template_areas": null,
            "grid_template_columns": null,
            "grid_template_rows": null,
            "height": null,
            "justify_content": null,
            "justify_items": null,
            "left": null,
            "margin": null,
            "max_height": null,
            "max_width": null,
            "min_height": null,
            "min_width": null,
            "object_fit": null,
            "object_position": null,
            "order": null,
            "overflow": null,
            "overflow_x": null,
            "overflow_y": null,
            "padding": null,
            "right": null,
            "top": null,
            "visibility": null,
            "width": null
          }
        },
        "7fd82bdd42b7403d80a4b6f88825ae17": {
          "model_module": "@jupyter-widgets/base",
          "model_name": "LayoutModel",
          "model_module_version": "1.2.0",
          "state": {
            "_model_module": "@jupyter-widgets/base",
            "_model_module_version": "1.2.0",
            "_model_name": "LayoutModel",
            "_view_count": null,
            "_view_module": "@jupyter-widgets/base",
            "_view_module_version": "1.2.0",
            "_view_name": "LayoutView",
            "align_content": null,
            "align_items": null,
            "align_self": null,
            "border": null,
            "bottom": null,
            "display": null,
            "flex": null,
            "flex_flow": null,
            "grid_area": null,
            "grid_auto_columns": null,
            "grid_auto_flow": null,
            "grid_auto_rows": null,
            "grid_column": null,
            "grid_gap": null,
            "grid_row": null,
            "grid_template_areas": null,
            "grid_template_columns": null,
            "grid_template_rows": null,
            "height": null,
            "justify_content": null,
            "justify_items": null,
            "left": null,
            "margin": null,
            "max_height": null,
            "max_width": null,
            "min_height": null,
            "min_width": null,
            "object_fit": null,
            "object_position": null,
            "order": null,
            "overflow": null,
            "overflow_x": null,
            "overflow_y": null,
            "padding": null,
            "right": null,
            "top": null,
            "visibility": null,
            "width": null
          }
        },
        "f53eccb10073494b964cdb65358caa85": {
          "model_module": "@jupyter-widgets/controls",
          "model_name": "DescriptionStyleModel",
          "model_module_version": "1.5.0",
          "state": {
            "_model_module": "@jupyter-widgets/controls",
            "_model_module_version": "1.5.0",
            "_model_name": "DescriptionStyleModel",
            "_view_count": null,
            "_view_module": "@jupyter-widgets/base",
            "_view_module_version": "1.2.0",
            "_view_name": "StyleView",
            "description_width": ""
          }
        },
        "d506f1ba889f4a009e987815b2132146": {
          "model_module": "@jupyter-widgets/base",
          "model_name": "LayoutModel",
          "model_module_version": "1.2.0",
          "state": {
            "_model_module": "@jupyter-widgets/base",
            "_model_module_version": "1.2.0",
            "_model_name": "LayoutModel",
            "_view_count": null,
            "_view_module": "@jupyter-widgets/base",
            "_view_module_version": "1.2.0",
            "_view_name": "LayoutView",
            "align_content": null,
            "align_items": null,
            "align_self": null,
            "border": null,
            "bottom": null,
            "display": null,
            "flex": null,
            "flex_flow": null,
            "grid_area": null,
            "grid_auto_columns": null,
            "grid_auto_flow": null,
            "grid_auto_rows": null,
            "grid_column": null,
            "grid_gap": null,
            "grid_row": null,
            "grid_template_areas": null,
            "grid_template_columns": null,
            "grid_template_rows": null,
            "height": null,
            "justify_content": null,
            "justify_items": null,
            "left": null,
            "margin": null,
            "max_height": null,
            "max_width": null,
            "min_height": null,
            "min_width": null,
            "object_fit": null,
            "object_position": null,
            "order": null,
            "overflow": null,
            "overflow_x": null,
            "overflow_y": null,
            "padding": null,
            "right": null,
            "top": null,
            "visibility": null,
            "width": null
          }
        },
        "34ae30dbda3e41298c790721a0a0816d": {
          "model_module": "@jupyter-widgets/controls",
          "model_name": "ProgressStyleModel",
          "model_module_version": "1.5.0",
          "state": {
            "_model_module": "@jupyter-widgets/controls",
            "_model_module_version": "1.5.0",
            "_model_name": "ProgressStyleModel",
            "_view_count": null,
            "_view_module": "@jupyter-widgets/base",
            "_view_module_version": "1.2.0",
            "_view_name": "StyleView",
            "bar_color": null,
            "description_width": ""
          }
        },
        "1e7f185caca9400fb685ce530507418f": {
          "model_module": "@jupyter-widgets/base",
          "model_name": "LayoutModel",
          "model_module_version": "1.2.0",
          "state": {
            "_model_module": "@jupyter-widgets/base",
            "_model_module_version": "1.2.0",
            "_model_name": "LayoutModel",
            "_view_count": null,
            "_view_module": "@jupyter-widgets/base",
            "_view_module_version": "1.2.0",
            "_view_name": "LayoutView",
            "align_content": null,
            "align_items": null,
            "align_self": null,
            "border": null,
            "bottom": null,
            "display": null,
            "flex": null,
            "flex_flow": null,
            "grid_area": null,
            "grid_auto_columns": null,
            "grid_auto_flow": null,
            "grid_auto_rows": null,
            "grid_column": null,
            "grid_gap": null,
            "grid_row": null,
            "grid_template_areas": null,
            "grid_template_columns": null,
            "grid_template_rows": null,
            "height": null,
            "justify_content": null,
            "justify_items": null,
            "left": null,
            "margin": null,
            "max_height": null,
            "max_width": null,
            "min_height": null,
            "min_width": null,
            "object_fit": null,
            "object_position": null,
            "order": null,
            "overflow": null,
            "overflow_x": null,
            "overflow_y": null,
            "padding": null,
            "right": null,
            "top": null,
            "visibility": null,
            "width": null
          }
        },
        "de32af441a9f4cedb8f625602e7dc316": {
          "model_module": "@jupyter-widgets/controls",
          "model_name": "DescriptionStyleModel",
          "model_module_version": "1.5.0",
          "state": {
            "_model_module": "@jupyter-widgets/controls",
            "_model_module_version": "1.5.0",
            "_model_name": "DescriptionStyleModel",
            "_view_count": null,
            "_view_module": "@jupyter-widgets/base",
            "_view_module_version": "1.2.0",
            "_view_name": "StyleView",
            "description_width": ""
          }
        },
        "a424ba344194479fa03f31a5e497a3b3": {
          "model_module": "@jupyter-widgets/controls",
          "model_name": "HBoxModel",
          "model_module_version": "1.5.0",
          "state": {
            "_dom_classes": [],
            "_model_module": "@jupyter-widgets/controls",
            "_model_module_version": "1.5.0",
            "_model_name": "HBoxModel",
            "_view_count": null,
            "_view_module": "@jupyter-widgets/controls",
            "_view_module_version": "1.5.0",
            "_view_name": "HBoxView",
            "box_style": "",
            "children": [
              "IPY_MODEL_3acab38add0a4ab19470b552ba507e08",
              "IPY_MODEL_cc134a276127484abc7526fe9a6ca440",
              "IPY_MODEL_239691018aff477cacf47ba549671f39"
            ],
            "layout": "IPY_MODEL_8fee3cedced74acb95bb8bc828a7c6d2"
          }
        },
        "3acab38add0a4ab19470b552ba507e08": {
          "model_module": "@jupyter-widgets/controls",
          "model_name": "HTMLModel",
          "model_module_version": "1.5.0",
          "state": {
            "_dom_classes": [],
            "_model_module": "@jupyter-widgets/controls",
            "_model_module_version": "1.5.0",
            "_model_name": "HTMLModel",
            "_view_count": null,
            "_view_module": "@jupyter-widgets/controls",
            "_view_module_version": "1.5.0",
            "_view_name": "HTMLView",
            "description": "",
            "description_tooltip": null,
            "layout": "IPY_MODEL_3545d2d327034b908da39d9b9782bc0a",
            "placeholder": "​",
            "style": "IPY_MODEL_6f44be768cc84a3a8c48211d25c0e220",
            "value": "model.safetensors: 100%"
          }
        },
        "cc134a276127484abc7526fe9a6ca440": {
          "model_module": "@jupyter-widgets/controls",
          "model_name": "FloatProgressModel",
          "model_module_version": "1.5.0",
          "state": {
            "_dom_classes": [],
            "_model_module": "@jupyter-widgets/controls",
            "_model_module_version": "1.5.0",
            "_model_name": "FloatProgressModel",
            "_view_count": null,
            "_view_module": "@jupyter-widgets/controls",
            "_view_module_version": "1.5.0",
            "_view_name": "ProgressView",
            "bar_style": "success",
            "description": "",
            "description_tooltip": null,
            "layout": "IPY_MODEL_8a6882939590498f87d5b0408fa1f7b5",
            "max": 267832558,
            "min": 0,
            "orientation": "horizontal",
            "style": "IPY_MODEL_1a410256d31d4eb097ea4ab07bb8c50d",
            "value": 267832558
          }
        },
        "239691018aff477cacf47ba549671f39": {
          "model_module": "@jupyter-widgets/controls",
          "model_name": "HTMLModel",
          "model_module_version": "1.5.0",
          "state": {
            "_dom_classes": [],
            "_model_module": "@jupyter-widgets/controls",
            "_model_module_version": "1.5.0",
            "_model_name": "HTMLModel",
            "_view_count": null,
            "_view_module": "@jupyter-widgets/controls",
            "_view_module_version": "1.5.0",
            "_view_name": "HTMLView",
            "description": "",
            "description_tooltip": null,
            "layout": "IPY_MODEL_31a960f63eac43b48c0880c65b4b616c",
            "placeholder": "​",
            "style": "IPY_MODEL_3fde1c253b404fb398c450c1c05033e1",
            "value": " 268M/268M [00:01&lt;00:00, 198MB/s]"
          }
        },
        "8fee3cedced74acb95bb8bc828a7c6d2": {
          "model_module": "@jupyter-widgets/base",
          "model_name": "LayoutModel",
          "model_module_version": "1.2.0",
          "state": {
            "_model_module": "@jupyter-widgets/base",
            "_model_module_version": "1.2.0",
            "_model_name": "LayoutModel",
            "_view_count": null,
            "_view_module": "@jupyter-widgets/base",
            "_view_module_version": "1.2.0",
            "_view_name": "LayoutView",
            "align_content": null,
            "align_items": null,
            "align_self": null,
            "border": null,
            "bottom": null,
            "display": null,
            "flex": null,
            "flex_flow": null,
            "grid_area": null,
            "grid_auto_columns": null,
            "grid_auto_flow": null,
            "grid_auto_rows": null,
            "grid_column": null,
            "grid_gap": null,
            "grid_row": null,
            "grid_template_areas": null,
            "grid_template_columns": null,
            "grid_template_rows": null,
            "height": null,
            "justify_content": null,
            "justify_items": null,
            "left": null,
            "margin": null,
            "max_height": null,
            "max_width": null,
            "min_height": null,
            "min_width": null,
            "object_fit": null,
            "object_position": null,
            "order": null,
            "overflow": null,
            "overflow_x": null,
            "overflow_y": null,
            "padding": null,
            "right": null,
            "top": null,
            "visibility": null,
            "width": null
          }
        },
        "3545d2d327034b908da39d9b9782bc0a": {
          "model_module": "@jupyter-widgets/base",
          "model_name": "LayoutModel",
          "model_module_version": "1.2.0",
          "state": {
            "_model_module": "@jupyter-widgets/base",
            "_model_module_version": "1.2.0",
            "_model_name": "LayoutModel",
            "_view_count": null,
            "_view_module": "@jupyter-widgets/base",
            "_view_module_version": "1.2.0",
            "_view_name": "LayoutView",
            "align_content": null,
            "align_items": null,
            "align_self": null,
            "border": null,
            "bottom": null,
            "display": null,
            "flex": null,
            "flex_flow": null,
            "grid_area": null,
            "grid_auto_columns": null,
            "grid_auto_flow": null,
            "grid_auto_rows": null,
            "grid_column": null,
            "grid_gap": null,
            "grid_row": null,
            "grid_template_areas": null,
            "grid_template_columns": null,
            "grid_template_rows": null,
            "height": null,
            "justify_content": null,
            "justify_items": null,
            "left": null,
            "margin": null,
            "max_height": null,
            "max_width": null,
            "min_height": null,
            "min_width": null,
            "object_fit": null,
            "object_position": null,
            "order": null,
            "overflow": null,
            "overflow_x": null,
            "overflow_y": null,
            "padding": null,
            "right": null,
            "top": null,
            "visibility": null,
            "width": null
          }
        },
        "6f44be768cc84a3a8c48211d25c0e220": {
          "model_module": "@jupyter-widgets/controls",
          "model_name": "DescriptionStyleModel",
          "model_module_version": "1.5.0",
          "state": {
            "_model_module": "@jupyter-widgets/controls",
            "_model_module_version": "1.5.0",
            "_model_name": "DescriptionStyleModel",
            "_view_count": null,
            "_view_module": "@jupyter-widgets/base",
            "_view_module_version": "1.2.0",
            "_view_name": "StyleView",
            "description_width": ""
          }
        },
        "8a6882939590498f87d5b0408fa1f7b5": {
          "model_module": "@jupyter-widgets/base",
          "model_name": "LayoutModel",
          "model_module_version": "1.2.0",
          "state": {
            "_model_module": "@jupyter-widgets/base",
            "_model_module_version": "1.2.0",
            "_model_name": "LayoutModel",
            "_view_count": null,
            "_view_module": "@jupyter-widgets/base",
            "_view_module_version": "1.2.0",
            "_view_name": "LayoutView",
            "align_content": null,
            "align_items": null,
            "align_self": null,
            "border": null,
            "bottom": null,
            "display": null,
            "flex": null,
            "flex_flow": null,
            "grid_area": null,
            "grid_auto_columns": null,
            "grid_auto_flow": null,
            "grid_auto_rows": null,
            "grid_column": null,
            "grid_gap": null,
            "grid_row": null,
            "grid_template_areas": null,
            "grid_template_columns": null,
            "grid_template_rows": null,
            "height": null,
            "justify_content": null,
            "justify_items": null,
            "left": null,
            "margin": null,
            "max_height": null,
            "max_width": null,
            "min_height": null,
            "min_width": null,
            "object_fit": null,
            "object_position": null,
            "order": null,
            "overflow": null,
            "overflow_x": null,
            "overflow_y": null,
            "padding": null,
            "right": null,
            "top": null,
            "visibility": null,
            "width": null
          }
        },
        "1a410256d31d4eb097ea4ab07bb8c50d": {
          "model_module": "@jupyter-widgets/controls",
          "model_name": "ProgressStyleModel",
          "model_module_version": "1.5.0",
          "state": {
            "_model_module": "@jupyter-widgets/controls",
            "_model_module_version": "1.5.0",
            "_model_name": "ProgressStyleModel",
            "_view_count": null,
            "_view_module": "@jupyter-widgets/base",
            "_view_module_version": "1.2.0",
            "_view_name": "StyleView",
            "bar_color": null,
            "description_width": ""
          }
        },
        "31a960f63eac43b48c0880c65b4b616c": {
          "model_module": "@jupyter-widgets/base",
          "model_name": "LayoutModel",
          "model_module_version": "1.2.0",
          "state": {
            "_model_module": "@jupyter-widgets/base",
            "_model_module_version": "1.2.0",
            "_model_name": "LayoutModel",
            "_view_count": null,
            "_view_module": "@jupyter-widgets/base",
            "_view_module_version": "1.2.0",
            "_view_name": "LayoutView",
            "align_content": null,
            "align_items": null,
            "align_self": null,
            "border": null,
            "bottom": null,
            "display": null,
            "flex": null,
            "flex_flow": null,
            "grid_area": null,
            "grid_auto_columns": null,
            "grid_auto_flow": null,
            "grid_auto_rows": null,
            "grid_column": null,
            "grid_gap": null,
            "grid_row": null,
            "grid_template_areas": null,
            "grid_template_columns": null,
            "grid_template_rows": null,
            "height": null,
            "justify_content": null,
            "justify_items": null,
            "left": null,
            "margin": null,
            "max_height": null,
            "max_width": null,
            "min_height": null,
            "min_width": null,
            "object_fit": null,
            "object_position": null,
            "order": null,
            "overflow": null,
            "overflow_x": null,
            "overflow_y": null,
            "padding": null,
            "right": null,
            "top": null,
            "visibility": null,
            "width": null
          }
        },
        "3fde1c253b404fb398c450c1c05033e1": {
          "model_module": "@jupyter-widgets/controls",
          "model_name": "DescriptionStyleModel",
          "model_module_version": "1.5.0",
          "state": {
            "_model_module": "@jupyter-widgets/controls",
            "_model_module_version": "1.5.0",
            "_model_name": "DescriptionStyleModel",
            "_view_count": null,
            "_view_module": "@jupyter-widgets/base",
            "_view_module_version": "1.2.0",
            "_view_name": "StyleView",
            "description_width": ""
          }
        },
        "cd0faf71066240e487f20c563e69c497": {
          "model_module": "@jupyter-widgets/controls",
          "model_name": "HBoxModel",
          "model_module_version": "1.5.0",
          "state": {
            "_dom_classes": [],
            "_model_module": "@jupyter-widgets/controls",
            "_model_module_version": "1.5.0",
            "_model_name": "HBoxModel",
            "_view_count": null,
            "_view_module": "@jupyter-widgets/controls",
            "_view_module_version": "1.5.0",
            "_view_name": "HBoxView",
            "box_style": "",
            "children": [
              "IPY_MODEL_47068252218849d8a69f9d1e6b37b50c",
              "IPY_MODEL_99dc21d9ad9748d99ae77171966a7b92",
              "IPY_MODEL_08e935ddafe14832b27219bfb4973f77"
            ],
            "layout": "IPY_MODEL_0c871c3a39164858ae17509d1206e3da"
          }
        },
        "47068252218849d8a69f9d1e6b37b50c": {
          "model_module": "@jupyter-widgets/controls",
          "model_name": "HTMLModel",
          "model_module_version": "1.5.0",
          "state": {
            "_dom_classes": [],
            "_model_module": "@jupyter-widgets/controls",
            "_model_module_version": "1.5.0",
            "_model_name": "HTMLModel",
            "_view_count": null,
            "_view_module": "@jupyter-widgets/controls",
            "_view_module_version": "1.5.0",
            "_view_name": "HTMLView",
            "description": "",
            "description_tooltip": null,
            "layout": "IPY_MODEL_c6fd59f184b14e93a572356e4dbab606",
            "placeholder": "​",
            "style": "IPY_MODEL_a529e27ea94d4b579172185058f17e75",
            "value": "tokenizer_config.json: 100%"
          }
        },
        "99dc21d9ad9748d99ae77171966a7b92": {
          "model_module": "@jupyter-widgets/controls",
          "model_name": "FloatProgressModel",
          "model_module_version": "1.5.0",
          "state": {
            "_dom_classes": [],
            "_model_module": "@jupyter-widgets/controls",
            "_model_module_version": "1.5.0",
            "_model_name": "FloatProgressModel",
            "_view_count": null,
            "_view_module": "@jupyter-widgets/controls",
            "_view_module_version": "1.5.0",
            "_view_name": "ProgressView",
            "bar_style": "success",
            "description": "",
            "description_tooltip": null,
            "layout": "IPY_MODEL_961919a8e2374c36ba01067d937b0403",
            "max": 48,
            "min": 0,
            "orientation": "horizontal",
            "style": "IPY_MODEL_419acfa6940f4963b952495acab96101",
            "value": 48
          }
        },
        "08e935ddafe14832b27219bfb4973f77": {
          "model_module": "@jupyter-widgets/controls",
          "model_name": "HTMLModel",
          "model_module_version": "1.5.0",
          "state": {
            "_dom_classes": [],
            "_model_module": "@jupyter-widgets/controls",
            "_model_module_version": "1.5.0",
            "_model_name": "HTMLModel",
            "_view_count": null,
            "_view_module": "@jupyter-widgets/controls",
            "_view_module_version": "1.5.0",
            "_view_name": "HTMLView",
            "description": "",
            "description_tooltip": null,
            "layout": "IPY_MODEL_cbc4bb7f52244e08ba4978412c2411e3",
            "placeholder": "​",
            "style": "IPY_MODEL_d5ed392b5351417db5e14d9df2c5afac",
            "value": " 48.0/48.0 [00:00&lt;00:00, 3.82kB/s]"
          }
        },
        "0c871c3a39164858ae17509d1206e3da": {
          "model_module": "@jupyter-widgets/base",
          "model_name": "LayoutModel",
          "model_module_version": "1.2.0",
          "state": {
            "_model_module": "@jupyter-widgets/base",
            "_model_module_version": "1.2.0",
            "_model_name": "LayoutModel",
            "_view_count": null,
            "_view_module": "@jupyter-widgets/base",
            "_view_module_version": "1.2.0",
            "_view_name": "LayoutView",
            "align_content": null,
            "align_items": null,
            "align_self": null,
            "border": null,
            "bottom": null,
            "display": null,
            "flex": null,
            "flex_flow": null,
            "grid_area": null,
            "grid_auto_columns": null,
            "grid_auto_flow": null,
            "grid_auto_rows": null,
            "grid_column": null,
            "grid_gap": null,
            "grid_row": null,
            "grid_template_areas": null,
            "grid_template_columns": null,
            "grid_template_rows": null,
            "height": null,
            "justify_content": null,
            "justify_items": null,
            "left": null,
            "margin": null,
            "max_height": null,
            "max_width": null,
            "min_height": null,
            "min_width": null,
            "object_fit": null,
            "object_position": null,
            "order": null,
            "overflow": null,
            "overflow_x": null,
            "overflow_y": null,
            "padding": null,
            "right": null,
            "top": null,
            "visibility": null,
            "width": null
          }
        },
        "c6fd59f184b14e93a572356e4dbab606": {
          "model_module": "@jupyter-widgets/base",
          "model_name": "LayoutModel",
          "model_module_version": "1.2.0",
          "state": {
            "_model_module": "@jupyter-widgets/base",
            "_model_module_version": "1.2.0",
            "_model_name": "LayoutModel",
            "_view_count": null,
            "_view_module": "@jupyter-widgets/base",
            "_view_module_version": "1.2.0",
            "_view_name": "LayoutView",
            "align_content": null,
            "align_items": null,
            "align_self": null,
            "border": null,
            "bottom": null,
            "display": null,
            "flex": null,
            "flex_flow": null,
            "grid_area": null,
            "grid_auto_columns": null,
            "grid_auto_flow": null,
            "grid_auto_rows": null,
            "grid_column": null,
            "grid_gap": null,
            "grid_row": null,
            "grid_template_areas": null,
            "grid_template_columns": null,
            "grid_template_rows": null,
            "height": null,
            "justify_content": null,
            "justify_items": null,
            "left": null,
            "margin": null,
            "max_height": null,
            "max_width": null,
            "min_height": null,
            "min_width": null,
            "object_fit": null,
            "object_position": null,
            "order": null,
            "overflow": null,
            "overflow_x": null,
            "overflow_y": null,
            "padding": null,
            "right": null,
            "top": null,
            "visibility": null,
            "width": null
          }
        },
        "a529e27ea94d4b579172185058f17e75": {
          "model_module": "@jupyter-widgets/controls",
          "model_name": "DescriptionStyleModel",
          "model_module_version": "1.5.0",
          "state": {
            "_model_module": "@jupyter-widgets/controls",
            "_model_module_version": "1.5.0",
            "_model_name": "DescriptionStyleModel",
            "_view_count": null,
            "_view_module": "@jupyter-widgets/base",
            "_view_module_version": "1.2.0",
            "_view_name": "StyleView",
            "description_width": ""
          }
        },
        "961919a8e2374c36ba01067d937b0403": {
          "model_module": "@jupyter-widgets/base",
          "model_name": "LayoutModel",
          "model_module_version": "1.2.0",
          "state": {
            "_model_module": "@jupyter-widgets/base",
            "_model_module_version": "1.2.0",
            "_model_name": "LayoutModel",
            "_view_count": null,
            "_view_module": "@jupyter-widgets/base",
            "_view_module_version": "1.2.0",
            "_view_name": "LayoutView",
            "align_content": null,
            "align_items": null,
            "align_self": null,
            "border": null,
            "bottom": null,
            "display": null,
            "flex": null,
            "flex_flow": null,
            "grid_area": null,
            "grid_auto_columns": null,
            "grid_auto_flow": null,
            "grid_auto_rows": null,
            "grid_column": null,
            "grid_gap": null,
            "grid_row": null,
            "grid_template_areas": null,
            "grid_template_columns": null,
            "grid_template_rows": null,
            "height": null,
            "justify_content": null,
            "justify_items": null,
            "left": null,
            "margin": null,
            "max_height": null,
            "max_width": null,
            "min_height": null,
            "min_width": null,
            "object_fit": null,
            "object_position": null,
            "order": null,
            "overflow": null,
            "overflow_x": null,
            "overflow_y": null,
            "padding": null,
            "right": null,
            "top": null,
            "visibility": null,
            "width": null
          }
        },
        "419acfa6940f4963b952495acab96101": {
          "model_module": "@jupyter-widgets/controls",
          "model_name": "ProgressStyleModel",
          "model_module_version": "1.5.0",
          "state": {
            "_model_module": "@jupyter-widgets/controls",
            "_model_module_version": "1.5.0",
            "_model_name": "ProgressStyleModel",
            "_view_count": null,
            "_view_module": "@jupyter-widgets/base",
            "_view_module_version": "1.2.0",
            "_view_name": "StyleView",
            "bar_color": null,
            "description_width": ""
          }
        },
        "cbc4bb7f52244e08ba4978412c2411e3": {
          "model_module": "@jupyter-widgets/base",
          "model_name": "LayoutModel",
          "model_module_version": "1.2.0",
          "state": {
            "_model_module": "@jupyter-widgets/base",
            "_model_module_version": "1.2.0",
            "_model_name": "LayoutModel",
            "_view_count": null,
            "_view_module": "@jupyter-widgets/base",
            "_view_module_version": "1.2.0",
            "_view_name": "LayoutView",
            "align_content": null,
            "align_items": null,
            "align_self": null,
            "border": null,
            "bottom": null,
            "display": null,
            "flex": null,
            "flex_flow": null,
            "grid_area": null,
            "grid_auto_columns": null,
            "grid_auto_flow": null,
            "grid_auto_rows": null,
            "grid_column": null,
            "grid_gap": null,
            "grid_row": null,
            "grid_template_areas": null,
            "grid_template_columns": null,
            "grid_template_rows": null,
            "height": null,
            "justify_content": null,
            "justify_items": null,
            "left": null,
            "margin": null,
            "max_height": null,
            "max_width": null,
            "min_height": null,
            "min_width": null,
            "object_fit": null,
            "object_position": null,
            "order": null,
            "overflow": null,
            "overflow_x": null,
            "overflow_y": null,
            "padding": null,
            "right": null,
            "top": null,
            "visibility": null,
            "width": null
          }
        },
        "d5ed392b5351417db5e14d9df2c5afac": {
          "model_module": "@jupyter-widgets/controls",
          "model_name": "DescriptionStyleModel",
          "model_module_version": "1.5.0",
          "state": {
            "_model_module": "@jupyter-widgets/controls",
            "_model_module_version": "1.5.0",
            "_model_name": "DescriptionStyleModel",
            "_view_count": null,
            "_view_module": "@jupyter-widgets/base",
            "_view_module_version": "1.2.0",
            "_view_name": "StyleView",
            "description_width": ""
          }
        },
        "4c282ceb4e574e589267a51d95c5e532": {
          "model_module": "@jupyter-widgets/controls",
          "model_name": "HBoxModel",
          "model_module_version": "1.5.0",
          "state": {
            "_dom_classes": [],
            "_model_module": "@jupyter-widgets/controls",
            "_model_module_version": "1.5.0",
            "_model_name": "HBoxModel",
            "_view_count": null,
            "_view_module": "@jupyter-widgets/controls",
            "_view_module_version": "1.5.0",
            "_view_name": "HBoxView",
            "box_style": "",
            "children": [
              "IPY_MODEL_3971764b90904e3da52687bb80eadadb",
              "IPY_MODEL_0259bcbd496a4b30a0212660f0f7f836",
              "IPY_MODEL_704f37393aef4c97877359ad3d69c0c9"
            ],
            "layout": "IPY_MODEL_0fe107eaf95b4d69bf3d1f04604429c1"
          }
        },
        "3971764b90904e3da52687bb80eadadb": {
          "model_module": "@jupyter-widgets/controls",
          "model_name": "HTMLModel",
          "model_module_version": "1.5.0",
          "state": {
            "_dom_classes": [],
            "_model_module": "@jupyter-widgets/controls",
            "_model_module_version": "1.5.0",
            "_model_name": "HTMLModel",
            "_view_count": null,
            "_view_module": "@jupyter-widgets/controls",
            "_view_module_version": "1.5.0",
            "_view_name": "HTMLView",
            "description": "",
            "description_tooltip": null,
            "layout": "IPY_MODEL_d64d557a41694d859e13792df93345db",
            "placeholder": "​",
            "style": "IPY_MODEL_c8c5119d99c34fda95a9f9fb74867e96",
            "value": "vocab.txt: 100%"
          }
        },
        "0259bcbd496a4b30a0212660f0f7f836": {
          "model_module": "@jupyter-widgets/controls",
          "model_name": "FloatProgressModel",
          "model_module_version": "1.5.0",
          "state": {
            "_dom_classes": [],
            "_model_module": "@jupyter-widgets/controls",
            "_model_module_version": "1.5.0",
            "_model_name": "FloatProgressModel",
            "_view_count": null,
            "_view_module": "@jupyter-widgets/controls",
            "_view_module_version": "1.5.0",
            "_view_name": "ProgressView",
            "bar_style": "success",
            "description": "",
            "description_tooltip": null,
            "layout": "IPY_MODEL_9e2b79db6d044690a3c63a9c33882d7d",
            "max": 231508,
            "min": 0,
            "orientation": "horizontal",
            "style": "IPY_MODEL_f48706b5888f49059a354724a11c2b12",
            "value": 231508
          }
        },
        "704f37393aef4c97877359ad3d69c0c9": {
          "model_module": "@jupyter-widgets/controls",
          "model_name": "HTMLModel",
          "model_module_version": "1.5.0",
          "state": {
            "_dom_classes": [],
            "_model_module": "@jupyter-widgets/controls",
            "_model_module_version": "1.5.0",
            "_model_name": "HTMLModel",
            "_view_count": null,
            "_view_module": "@jupyter-widgets/controls",
            "_view_module_version": "1.5.0",
            "_view_name": "HTMLView",
            "description": "",
            "description_tooltip": null,
            "layout": "IPY_MODEL_802d0efeb3ea49a6ad8fc5c7eaecdad6",
            "placeholder": "​",
            "style": "IPY_MODEL_edc0ed6d2b3345aca586256791692fb4",
            "value": " 232k/232k [00:00&lt;00:00, 2.04MB/s]"
          }
        },
        "0fe107eaf95b4d69bf3d1f04604429c1": {
          "model_module": "@jupyter-widgets/base",
          "model_name": "LayoutModel",
          "model_module_version": "1.2.0",
          "state": {
            "_model_module": "@jupyter-widgets/base",
            "_model_module_version": "1.2.0",
            "_model_name": "LayoutModel",
            "_view_count": null,
            "_view_module": "@jupyter-widgets/base",
            "_view_module_version": "1.2.0",
            "_view_name": "LayoutView",
            "align_content": null,
            "align_items": null,
            "align_self": null,
            "border": null,
            "bottom": null,
            "display": null,
            "flex": null,
            "flex_flow": null,
            "grid_area": null,
            "grid_auto_columns": null,
            "grid_auto_flow": null,
            "grid_auto_rows": null,
            "grid_column": null,
            "grid_gap": null,
            "grid_row": null,
            "grid_template_areas": null,
            "grid_template_columns": null,
            "grid_template_rows": null,
            "height": null,
            "justify_content": null,
            "justify_items": null,
            "left": null,
            "margin": null,
            "max_height": null,
            "max_width": null,
            "min_height": null,
            "min_width": null,
            "object_fit": null,
            "object_position": null,
            "order": null,
            "overflow": null,
            "overflow_x": null,
            "overflow_y": null,
            "padding": null,
            "right": null,
            "top": null,
            "visibility": null,
            "width": null
          }
        },
        "d64d557a41694d859e13792df93345db": {
          "model_module": "@jupyter-widgets/base",
          "model_name": "LayoutModel",
          "model_module_version": "1.2.0",
          "state": {
            "_model_module": "@jupyter-widgets/base",
            "_model_module_version": "1.2.0",
            "_model_name": "LayoutModel",
            "_view_count": null,
            "_view_module": "@jupyter-widgets/base",
            "_view_module_version": "1.2.0",
            "_view_name": "LayoutView",
            "align_content": null,
            "align_items": null,
            "align_self": null,
            "border": null,
            "bottom": null,
            "display": null,
            "flex": null,
            "flex_flow": null,
            "grid_area": null,
            "grid_auto_columns": null,
            "grid_auto_flow": null,
            "grid_auto_rows": null,
            "grid_column": null,
            "grid_gap": null,
            "grid_row": null,
            "grid_template_areas": null,
            "grid_template_columns": null,
            "grid_template_rows": null,
            "height": null,
            "justify_content": null,
            "justify_items": null,
            "left": null,
            "margin": null,
            "max_height": null,
            "max_width": null,
            "min_height": null,
            "min_width": null,
            "object_fit": null,
            "object_position": null,
            "order": null,
            "overflow": null,
            "overflow_x": null,
            "overflow_y": null,
            "padding": null,
            "right": null,
            "top": null,
            "visibility": null,
            "width": null
          }
        },
        "c8c5119d99c34fda95a9f9fb74867e96": {
          "model_module": "@jupyter-widgets/controls",
          "model_name": "DescriptionStyleModel",
          "model_module_version": "1.5.0",
          "state": {
            "_model_module": "@jupyter-widgets/controls",
            "_model_module_version": "1.5.0",
            "_model_name": "DescriptionStyleModel",
            "_view_count": null,
            "_view_module": "@jupyter-widgets/base",
            "_view_module_version": "1.2.0",
            "_view_name": "StyleView",
            "description_width": ""
          }
        },
        "9e2b79db6d044690a3c63a9c33882d7d": {
          "model_module": "@jupyter-widgets/base",
          "model_name": "LayoutModel",
          "model_module_version": "1.2.0",
          "state": {
            "_model_module": "@jupyter-widgets/base",
            "_model_module_version": "1.2.0",
            "_model_name": "LayoutModel",
            "_view_count": null,
            "_view_module": "@jupyter-widgets/base",
            "_view_module_version": "1.2.0",
            "_view_name": "LayoutView",
            "align_content": null,
            "align_items": null,
            "align_self": null,
            "border": null,
            "bottom": null,
            "display": null,
            "flex": null,
            "flex_flow": null,
            "grid_area": null,
            "grid_auto_columns": null,
            "grid_auto_flow": null,
            "grid_auto_rows": null,
            "grid_column": null,
            "grid_gap": null,
            "grid_row": null,
            "grid_template_areas": null,
            "grid_template_columns": null,
            "grid_template_rows": null,
            "height": null,
            "justify_content": null,
            "justify_items": null,
            "left": null,
            "margin": null,
            "max_height": null,
            "max_width": null,
            "min_height": null,
            "min_width": null,
            "object_fit": null,
            "object_position": null,
            "order": null,
            "overflow": null,
            "overflow_x": null,
            "overflow_y": null,
            "padding": null,
            "right": null,
            "top": null,
            "visibility": null,
            "width": null
          }
        },
        "f48706b5888f49059a354724a11c2b12": {
          "model_module": "@jupyter-widgets/controls",
          "model_name": "ProgressStyleModel",
          "model_module_version": "1.5.0",
          "state": {
            "_model_module": "@jupyter-widgets/controls",
            "_model_module_version": "1.5.0",
            "_model_name": "ProgressStyleModel",
            "_view_count": null,
            "_view_module": "@jupyter-widgets/base",
            "_view_module_version": "1.2.0",
            "_view_name": "StyleView",
            "bar_color": null,
            "description_width": ""
          }
        },
        "802d0efeb3ea49a6ad8fc5c7eaecdad6": {
          "model_module": "@jupyter-widgets/base",
          "model_name": "LayoutModel",
          "model_module_version": "1.2.0",
          "state": {
            "_model_module": "@jupyter-widgets/base",
            "_model_module_version": "1.2.0",
            "_model_name": "LayoutModel",
            "_view_count": null,
            "_view_module": "@jupyter-widgets/base",
            "_view_module_version": "1.2.0",
            "_view_name": "LayoutView",
            "align_content": null,
            "align_items": null,
            "align_self": null,
            "border": null,
            "bottom": null,
            "display": null,
            "flex": null,
            "flex_flow": null,
            "grid_area": null,
            "grid_auto_columns": null,
            "grid_auto_flow": null,
            "grid_auto_rows": null,
            "grid_column": null,
            "grid_gap": null,
            "grid_row": null,
            "grid_template_areas": null,
            "grid_template_columns": null,
            "grid_template_rows": null,
            "height": null,
            "justify_content": null,
            "justify_items": null,
            "left": null,
            "margin": null,
            "max_height": null,
            "max_width": null,
            "min_height": null,
            "min_width": null,
            "object_fit": null,
            "object_position": null,
            "order": null,
            "overflow": null,
            "overflow_x": null,
            "overflow_y": null,
            "padding": null,
            "right": null,
            "top": null,
            "visibility": null,
            "width": null
          }
        },
        "edc0ed6d2b3345aca586256791692fb4": {
          "model_module": "@jupyter-widgets/controls",
          "model_name": "DescriptionStyleModel",
          "model_module_version": "1.5.0",
          "state": {
            "_model_module": "@jupyter-widgets/controls",
            "_model_module_version": "1.5.0",
            "_model_name": "DescriptionStyleModel",
            "_view_count": null,
            "_view_module": "@jupyter-widgets/base",
            "_view_module_version": "1.2.0",
            "_view_name": "StyleView",
            "description_width": ""
          }
        }
      }
    }
  },
  "cells": [
    {
      "cell_type": "markdown",
      "metadata": {
        "id": "view-in-github",
        "colab_type": "text"
      },
      "source": [
        "<a href=\"https://colab.research.google.com/github/jayashalakshani/Real-Time-Social-Media-Sentiment-and-Trend-Analysis-Platform/blob/main/Speed_Layer_(Real_Time_Processing_with_Spark_%2B_Redis).ipynb\" target=\"_parent\"><img src=\"https://colab.research.google.com/assets/colab-badge.svg\" alt=\"Open In Colab\"/></a>"
      ]
    },
    {
      "cell_type": "markdown",
      "source": [
        "# Spark Setup in Colab"
      ],
      "metadata": {
        "id": "yw9-aJY4rOR1"
      }
    },
    {
      "cell_type": "code",
      "execution_count": null,
      "metadata": {
        "colab": {
          "base_uri": "https://localhost:8080/"
        },
        "id": "aOLmAa0hpwoX",
        "outputId": "185e8a52-2f19-4fd1-bf5e-a21dce2941a8"
      },
      "outputs": [
        {
          "output_type": "stream",
          "name": "stdout",
          "text": [
            "\u001b[33mWARNING: pymongo 4.12.0 does not provide the extra 'srv'\u001b[0m\u001b[33m\n",
            "\u001b[2K   \u001b[90m━━━━━━━━━━━━━━━━━━━━━━━━━━━━━━━━━━━━━━━━\u001b[0m \u001b[32m261.5/261.5 kB\u001b[0m \u001b[31m10.5 MB/s\u001b[0m eta \u001b[36m0:00:00\u001b[0m\n",
            "\u001b[2K   \u001b[90m━━━━━━━━━━━━━━━━━━━━━━━━━━━━━━━━━━━━━━━━\u001b[0m \u001b[32m363.4/363.4 MB\u001b[0m \u001b[31m1.5 MB/s\u001b[0m eta \u001b[36m0:00:00\u001b[0m\n",
            "\u001b[2K   \u001b[90m━━━━━━━━━━━━━━━━━━━━━━━━━━━━━━━━━━━━━━━━\u001b[0m \u001b[32m13.8/13.8 MB\u001b[0m \u001b[31m91.7 MB/s\u001b[0m eta \u001b[36m0:00:00\u001b[0m\n",
            "\u001b[2K   \u001b[90m━━━━━━━━━━━━━━━━━━━━━━━━━━━━━━━━━━━━━━━━\u001b[0m \u001b[32m24.6/24.6 MB\u001b[0m \u001b[31m81.6 MB/s\u001b[0m eta \u001b[36m0:00:00\u001b[0m\n",
            "\u001b[2K   \u001b[90m━━━━━━━━━━━━━━━━━━━━━━━━━━━━━━━━━━━━━━━━\u001b[0m \u001b[32m883.7/883.7 kB\u001b[0m \u001b[31m41.4 MB/s\u001b[0m eta \u001b[36m0:00:00\u001b[0m\n",
            "\u001b[2K   \u001b[90m━━━━━━━━━━━━━━━━━━━━━━━━━━━━━━━━━━━━━━━━\u001b[0m \u001b[32m664.8/664.8 MB\u001b[0m \u001b[31m2.9 MB/s\u001b[0m eta \u001b[36m0:00:00\u001b[0m\n",
            "\u001b[2K   \u001b[90m━━━━━━━━━━━━━━━━━━━━━━━━━━━━━━━━━━━━━━━━\u001b[0m \u001b[32m211.5/211.5 MB\u001b[0m \u001b[31m5.9 MB/s\u001b[0m eta \u001b[36m0:00:00\u001b[0m\n",
            "\u001b[2K   \u001b[90m━━━━━━━━━━━━━━━━━━━━━━━━━━━━━━━━━━━━━━━━\u001b[0m \u001b[32m56.3/56.3 MB\u001b[0m \u001b[31m12.5 MB/s\u001b[0m eta \u001b[36m0:00:00\u001b[0m\n",
            "\u001b[2K   \u001b[90m━━━━━━━━━━━━━━━━━━━━━━━━━━━━━━━━━━━━━━━━\u001b[0m \u001b[32m127.9/127.9 MB\u001b[0m \u001b[31m7.7 MB/s\u001b[0m eta \u001b[36m0:00:00\u001b[0m\n",
            "\u001b[2K   \u001b[90m━━━━━━━━━━━━━━━━━━━━━━━━━━━━━━━━━━━━━━━━\u001b[0m \u001b[32m207.5/207.5 MB\u001b[0m \u001b[31m6.1 MB/s\u001b[0m eta \u001b[36m0:00:00\u001b[0m\n",
            "\u001b[2K   \u001b[90m━━━━━━━━━━━━━━━━━━━━━━━━━━━━━━━━━━━━━━━━\u001b[0m \u001b[32m21.1/21.1 MB\u001b[0m \u001b[31m58.2 MB/s\u001b[0m eta \u001b[36m0:00:00\u001b[0m\n",
            "\u001b[2K   \u001b[90m━━━━━━━━━━━━━━━━━━━━━━━━━━━━━━━━━━━━━━━━\u001b[0m \u001b[32m313.6/313.6 kB\u001b[0m \u001b[31m22.1 MB/s\u001b[0m eta \u001b[36m0:00:00\u001b[0m\n",
            "\u001b[2K   \u001b[90m━━━━━━━━━━━━━━━━━━━━━━━━━━━━━━━━━━━━━━━━\u001b[0m \u001b[32m1.4/1.4 MB\u001b[0m \u001b[31m45.0 MB/s\u001b[0m eta \u001b[36m0:00:00\u001b[0m\n",
            "\u001b[?25h--2025-04-27 16:20:36--  https://archive.apache.org/dist/spark/spark-3.5.0/spark-3.5.0-bin-hadoop3.tgz\n",
            "Resolving archive.apache.org (archive.apache.org)... 65.108.204.189, 2a01:4f9:1a:a084::2\n",
            "Connecting to archive.apache.org (archive.apache.org)|65.108.204.189|:443... connected.\n",
            "HTTP request sent, awaiting response... 200 OK\n",
            "Length: 400395283 (382M) [application/x-gzip]\n",
            "Saving to: ‘spark-3.5.0-bin-hadoop3.tgz’\n",
            "\n",
            "spark-3.5.0-bin-had 100%[===================>] 381.85M  20.0MB/s    in 28s     \n",
            "\n",
            "2025-04-27 16:21:05 (13.6 MB/s) - ‘spark-3.5.0-bin-hadoop3.tgz’ saved [400395283/400395283]\n",
            "\n"
          ]
        }
      ],
      "source": [
        "!apt-get install openjdk-11-jdk-headless -qq > /dev/null\n",
        "!pip install -q findspark pymongo[srv] redis pyspark transformers torch redis\n",
        "!wget https://archive.apache.org/dist/spark/spark-3.5.0/spark-3.5.0-bin-hadoop3.tgz\n",
        "!tar xf spark-3.5.0-bin-hadoop3.tgz"
      ]
    },
    {
      "cell_type": "code",
      "source": [
        "ls -l spark-3.5.0-bin-hadoop3.tgz"
      ],
      "metadata": {
        "colab": {
          "base_uri": "https://localhost:8080/"
        },
        "id": "VZwnvM0juvaT",
        "outputId": "cbfccc2b-0be4-44e4-cde1-f2283fee0153"
      },
      "execution_count": null,
      "outputs": [
        {
          "output_type": "stream",
          "name": "stdout",
          "text": [
            "-rw-r--r-- 1 root root 400395283 Sep  9  2023 spark-3.5.0-bin-hadoop3.tgz\n"
          ]
        }
      ]
    },
    {
      "cell_type": "code",
      "source": [
        "import os\n",
        "os.environ[\"JAVA_HOME\"] = \"/usr/lib/jvm/java-11-openjdk-amd64\"\n",
        "os.environ[\"SPARK_HOME\"] = \"/content/spark-3.5.0-bin-hadoop3\""
      ],
      "metadata": {
        "id": "_seDBeUJrTeS"
      },
      "execution_count": null,
      "outputs": []
    },
    {
      "cell_type": "markdown",
      "source": [
        "# Initialize Spark"
      ],
      "metadata": {
        "id": "jadNIezgGmd-"
      }
    },
    {
      "cell_type": "code",
      "source": [
        "import findspark\n",
        "findspark.init()"
      ],
      "metadata": {
        "id": "Sqa1ePw4reW_"
      },
      "execution_count": null,
      "outputs": []
    },
    {
      "cell_type": "code",
      "source": [
        "from pyspark.sql import SparkSession\n",
        "\n",
        "spark = SparkSession.builder \\\n",
        "    .appName(\"MongoDBToRedisSpeedLayer\") \\\n",
        "    .getOrCreate()\n"
      ],
      "metadata": {
        "id": "UPCHs7UMrhFr"
      },
      "execution_count": null,
      "outputs": []
    },
    {
      "cell_type": "code",
      "source": [],
      "metadata": {
        "id": "xrR5Ufzxa213"
      },
      "execution_count": null,
      "outputs": []
    },
    {
      "cell_type": "code",
      "source": [],
      "metadata": {
        "id": "lk_cvS2Fa2sc"
      },
      "execution_count": null,
      "outputs": []
    },
    {
      "cell_type": "code",
      "source": [],
      "metadata": {
        "id": "OZIlxdNia2j3"
      },
      "execution_count": null,
      "outputs": []
    },
    {
      "cell_type": "code",
      "source": [],
      "metadata": {
        "id": "CnWGkynqbJ6-"
      },
      "execution_count": null,
      "outputs": []
    },
    {
      "cell_type": "markdown",
      "source": [
        "# Connect to MongoDB and Redis"
      ],
      "metadata": {
        "id": "XNpytkGPEa1k"
      }
    },
    {
      "cell_type": "code",
      "source": [
        "from pyspark.sql import SparkSession\n",
        "import redis\n",
        "from pymongo import MongoClient\n",
        "from transformers import pipeline\n",
        "import json\n",
        "import time\n",
        "from google.colab import userdata"
      ],
      "metadata": {
        "id": "HXFjhVtAEZkA"
      },
      "execution_count": null,
      "outputs": []
    },
    {
      "cell_type": "code",
      "source": [
        "# Replace these with your credentials\n",
        "username = userdata.get('mongodb_username')\n",
        "password = userdata.get('mongodb_pw')\n",
        "cluster_url = \"cluster0.8ad48r1.mongodb.net\""
      ],
      "metadata": {
        "id": "a0qYDrgDE7Sv"
      },
      "execution_count": null,
      "outputs": []
    },
    {
      "cell_type": "code",
      "source": [
        "# Full URI\n",
        "uri = f\"mongodb+srv://{username}:{password}@{cluster_url}/?retryWrites=true&w=majority&appName=Cluster0\""
      ],
      "metadata": {
        "id": "_O1D5KP9FME3"
      },
      "execution_count": null,
      "outputs": []
    },
    {
      "cell_type": "code",
      "source": [
        "# MongoDB connection\n",
        "client = MongoClient(uri)\n",
        "db = client['social_media_analytics']\n",
        "collection_1 = db['mastodon_sentiment_data']\n",
        "collection_2 = db['youtube_sentiment_collection']"
      ],
      "metadata": {
        "id": "a8-Ray5eFDLB"
      },
      "execution_count": 19,
      "outputs": []
    },
    {
      "cell_type": "code",
      "source": [
        "# Redis connection\n",
        "redis_client = redis.Redis(\n",
        "    host='redis-15930.c212.ap-south-1-1.ec2.redns.redis-cloud.com',\n",
        "    port=15930,\n",
        "    username='default',\n",
        "    password= userdata.get('redis_password'),\n",
        "    decode_responses=True\n",
        ")"
      ],
      "metadata": {
        "id": "ji6atTmtFlxF"
      },
      "execution_count": null,
      "outputs": []
    },
    {
      "cell_type": "code",
      "source": [
        "# Checking redis\n",
        "redis_client.set('foo', 'bar')"
      ],
      "metadata": {
        "colab": {
          "base_uri": "https://localhost:8080/"
        },
        "id": "RPOgvIQfKh1c",
        "outputId": "dd02b66c-1503-48f0-b79b-8a2b4e43e1f8"
      },
      "execution_count": null,
      "outputs": [
        {
          "output_type": "execute_result",
          "data": {
            "text/plain": [
              "True"
            ]
          },
          "metadata": {},
          "execution_count": 11
        }
      ]
    },
    {
      "cell_type": "code",
      "source": [
        "# Sentiment model\n",
        "sentiment_pipeline = pipeline('sentiment-analysis', model=\"distilbert-base-uncased-finetuned-sst-2-english\")"
      ],
      "metadata": {
        "colab": {
          "base_uri": "https://localhost:8080/",
          "height": 301,
          "referenced_widgets": [
            "fd0febb5d70c40e9bee661a08570f72b",
            "a69d4707ff9348e6807672c36e1bbafc",
            "3417074b3e8a4cb6850a9dc6a3fb8e23",
            "b9ca8580d2024c5c9489e13bde106ff5",
            "bf3062a60a8a461d9a850864dab700f9",
            "7fd82bdd42b7403d80a4b6f88825ae17",
            "f53eccb10073494b964cdb65358caa85",
            "d506f1ba889f4a009e987815b2132146",
            "34ae30dbda3e41298c790721a0a0816d",
            "1e7f185caca9400fb685ce530507418f",
            "de32af441a9f4cedb8f625602e7dc316",
            "a424ba344194479fa03f31a5e497a3b3",
            "3acab38add0a4ab19470b552ba507e08",
            "cc134a276127484abc7526fe9a6ca440",
            "239691018aff477cacf47ba549671f39",
            "8fee3cedced74acb95bb8bc828a7c6d2",
            "3545d2d327034b908da39d9b9782bc0a",
            "6f44be768cc84a3a8c48211d25c0e220",
            "8a6882939590498f87d5b0408fa1f7b5",
            "1a410256d31d4eb097ea4ab07bb8c50d",
            "31a960f63eac43b48c0880c65b4b616c",
            "3fde1c253b404fb398c450c1c05033e1",
            "cd0faf71066240e487f20c563e69c497",
            "47068252218849d8a69f9d1e6b37b50c",
            "99dc21d9ad9748d99ae77171966a7b92",
            "08e935ddafe14832b27219bfb4973f77",
            "0c871c3a39164858ae17509d1206e3da",
            "c6fd59f184b14e93a572356e4dbab606",
            "a529e27ea94d4b579172185058f17e75",
            "961919a8e2374c36ba01067d937b0403",
            "419acfa6940f4963b952495acab96101",
            "cbc4bb7f52244e08ba4978412c2411e3",
            "d5ed392b5351417db5e14d9df2c5afac",
            "4c282ceb4e574e589267a51d95c5e532",
            "3971764b90904e3da52687bb80eadadb",
            "0259bcbd496a4b30a0212660f0f7f836",
            "704f37393aef4c97877359ad3d69c0c9",
            "0fe107eaf95b4d69bf3d1f04604429c1",
            "d64d557a41694d859e13792df93345db",
            "c8c5119d99c34fda95a9f9fb74867e96",
            "9e2b79db6d044690a3c63a9c33882d7d",
            "f48706b5888f49059a354724a11c2b12",
            "802d0efeb3ea49a6ad8fc5c7eaecdad6",
            "edc0ed6d2b3345aca586256791692fb4"
          ]
        },
        "id": "JfJqTU9jKvQR",
        "outputId": "66872ad9-c9c5-4ab5-ce7a-97d7c26e4258"
      },
      "execution_count": null,
      "outputs": [
        {
          "output_type": "stream",
          "name": "stderr",
          "text": [
            "/usr/local/lib/python3.11/dist-packages/huggingface_hub/utils/_auth.py:94: UserWarning: \n",
            "The secret `HF_TOKEN` does not exist in your Colab secrets.\n",
            "To authenticate with the Hugging Face Hub, create a token in your settings tab (https://huggingface.co/settings/tokens), set it as secret in your Google Colab and restart your session.\n",
            "You will be able to reuse this secret in all of your notebooks.\n",
            "Please note that authentication is recommended but still optional to access public models or datasets.\n",
            "  warnings.warn(\n"
          ]
        },
        {
          "output_type": "display_data",
          "data": {
            "text/plain": [
              "config.json:   0%|          | 0.00/629 [00:00<?, ?B/s]"
            ],
            "application/vnd.jupyter.widget-view+json": {
              "version_major": 2,
              "version_minor": 0,
              "model_id": "fd0febb5d70c40e9bee661a08570f72b"
            }
          },
          "metadata": {}
        },
        {
          "output_type": "stream",
          "name": "stderr",
          "text": [
            "Xet Storage is enabled for this repo, but the 'hf_xet' package is not installed. Falling back to regular HTTP download. For better performance, install the package with: `pip install huggingface_hub[hf_xet]` or `pip install hf_xet`\n",
            "WARNING:huggingface_hub.file_download:Xet Storage is enabled for this repo, but the 'hf_xet' package is not installed. Falling back to regular HTTP download. For better performance, install the package with: `pip install huggingface_hub[hf_xet]` or `pip install hf_xet`\n"
          ]
        },
        {
          "output_type": "display_data",
          "data": {
            "text/plain": [
              "model.safetensors:   0%|          | 0.00/268M [00:00<?, ?B/s]"
            ],
            "application/vnd.jupyter.widget-view+json": {
              "version_major": 2,
              "version_minor": 0,
              "model_id": "a424ba344194479fa03f31a5e497a3b3"
            }
          },
          "metadata": {}
        },
        {
          "output_type": "display_data",
          "data": {
            "text/plain": [
              "tokenizer_config.json:   0%|          | 0.00/48.0 [00:00<?, ?B/s]"
            ],
            "application/vnd.jupyter.widget-view+json": {
              "version_major": 2,
              "version_minor": 0,
              "model_id": "cd0faf71066240e487f20c563e69c497"
            }
          },
          "metadata": {}
        },
        {
          "output_type": "display_data",
          "data": {
            "text/plain": [
              "vocab.txt:   0%|          | 0.00/232k [00:00<?, ?B/s]"
            ],
            "application/vnd.jupyter.widget-view+json": {
              "version_major": 2,
              "version_minor": 0,
              "model_id": "4c282ceb4e574e589267a51d95c5e532"
            }
          },
          "metadata": {}
        },
        {
          "output_type": "stream",
          "name": "stderr",
          "text": [
            "Device set to use cpu\n"
          ]
        }
      ]
    },
    {
      "cell_type": "markdown",
      "source": [
        "# Define Micro-Batch Streaming"
      ],
      "metadata": {
        "id": "6Z7pRGxOLIjd"
      }
    },
    {
      "cell_type": "code",
      "source": [
        "from pyspark.sql.types import StructType, StructField, StringType, TimestampType\n",
        "from pyspark.sql import Row\n",
        "import json\n",
        "import time\n"
      ],
      "metadata": {
        "colab": {
          "base_uri": "https://localhost:8080/"
        },
        "id": "RAIGzvzsXXmF",
        "outputId": "d095d205-5f16-45e6-a642-6044d7a6ecd2"
      },
      "execution_count": 22,
      "outputs": [
        {
          "output_type": "stream",
          "name": "stdout",
          "text": [
            "\n",
            "📜 Mastodon: Processing 50 comments\n",
            "+----------------------+--------------------------------------------------+-----------------------+--------------------------------------------------+\n",
            "|                   tag|                                              text|             created_at|                                          post_url|\n",
            "+----------------------+--------------------------------------------------+-----------------------+--------------------------------------------------+\n",
            "|   #screenshotsaturday| thank thats really encouraging hear exactly going|    2025-04-27 07:01:59|https://mastodon.gamedev.place/@HaafAndHammar/1...|\n",
            "|   #screenshotsaturday|icons right recipe buttons indicate ingredient ...|    2025-04-27 03:40:51|  https://kind.social/@empyreon/114407830618400411|\n",
            "|   #screenshotsaturday|really enjoy boardgamebecamereal look youre making|    2025-04-27 01:50:55|https://mastodon.gamedev.place/@HaafAndHammar/1...|\n",
            "|        #fantasticfour|                                     also fraction|    2025-04-26 04:22:49|https://mastodon.social/@SKleefeld/114400415439...|\n",
            "|    #throwbackthursday|     unfortunately maybe wasnt holding quite right|2025-04-25 13:58:39.333|https://mastodon.social/@geoff_eg/1143955740729...|\n",
            "|    #throwbackthursday|definitely finicky times lot fun getting camera...|2025-04-25 13:55:54.308|https://mastodon.social/@geoff_eg/1143955740729...|\n",
            "|     #thursdayfivelist|                                            lovely|2025-04-25 13:36:32.384|         https://c.im/@jake4480/114394247589967767|\n",
            "|    #throwbackthursday|         thanks love model glad get moving forward|    2025-04-25 11:20:20|      https://dice.camp/@tuonel/114396357023350705|\n",
            "|    #throwbackthursday|            love model youve got looking great far|    2025-04-25 10:22:17|      https://dice.camp/@tuonel/114396357023350705|\n",
            "|     #thursdayfivelist|                      nice onegiving others listen|    2025-04-25 10:04:10|                 https://nham.co.uk/2025/04/11714/|\n",
            "|    #throwbackthursday|think beautiful must taken work get right like ...|    2025-04-25 05:51:52|https://mastodon.social/@geoff_eg/1143955740729...|\n",
            "|    #throwbackthursday|                                        see future|2025-04-25 04:38:33.838|https://mastodon.social/@geoff_eg/1143955740729...|\n",
            "|     #thursdayfivelist|hahaa thank dude came quickly thought songs hil...|    2025-04-24 19:20:50|         https://c.im/@jake4480/114394247589967767|\n",
            "|     #thursdayfivelist|                                        great list|    2025-04-24 19:20:15|         https://c.im/@jake4480/114394247589967767|\n",
            "|     #thursdayfivelist|                             really fun theme ways|    2025-04-24 18:35:04|https://eldritch.cafe/@HauntedOwlbear/114394294...|\n",
            "|     #thursdayfivelist|well also choose titles honestly find interesti...|2025-04-24 18:21:50.651|https://eldritch.cafe/@HauntedOwlbear/114394294...|\n",
            "|#complaintsongsorpoems|ten minutes later email another client delaying...|    2025-04-22 22:37:13|https://cupoftea.social/@Gaolaitch/114383865907...|\n",
            "|          #morecowbell|many paul simon peter gabriel songs could fit b...|    2025-04-18 02:25:54|https://mastodon.social/@OldSchool63/1143565860...|\n",
            "|          #morecowbell|soy bad bunny explicit tiny deskla clave bien t...|    2025-04-17 23:54:52|https://boriken.social/@mediopocillo/1143560006...|\n",
            "|    #throwbackthursday|youve read book tell think capturing head back ...|2025-04-17 16:27:52.467|https://mastodon.social/@limebar/11435411457148...|\n",
            "+----------------------+--------------------------------------------------+-----------------------+--------------------------------------------------+\n",
            "only showing top 20 rows\n",
            "\n",
            "\n",
            "📜 YouTube: Processing 50 comments\n",
            "+------------------------+--------------------------------------------------+--------------------+-----------+--------------------------------------------------+\n",
            "|                     tag|                                              text|        published_at|   video_id|                                       video_title|\n",
            "+------------------------+--------------------------------------------------+--------------------+-----------+--------------------------------------------------+\n",
            "|          inside the nba|people read god loves much honestly want spread...|2025-04-17T03:55:27Z|tNsuxrUbOpk|The Crew Reacts to the Warriors Win Over Memphi...|\n",
            "|          inside the nba|                       part 245 instant goosebumps|2025-04-17T03:53:50Z|tNsuxrUbOpk|The Crew Reacts to the Warriors Win Over Memphi...|\n",
            "|paddy the baddy pimblett|      would feel bad walking seeing chandlers face|2025-04-17T03:50:46Z|MkMT5HCjwnU|FIGHT NIGHT VLOG: Unseen Footage From Paddy The...|\n",
            "|paddy the baddy pimblett|                        sorcerers dont get knocked|2025-04-17T03:50:03Z|MkMT5HCjwnU|FIGHT NIGHT VLOG: Unseen Footage From Paddy The...|\n",
            "|          inside the nba|                         transition 312 chefs kiss|2025-04-17T03:45:50Z|tNsuxrUbOpk|The Crew Reacts to the Warriors Win Over Memphi...|\n",
            "|paddy the baddy pimblett|  lad 100 percent wouldnt dropped colby real paddy|2025-04-17T03:44:52Z|MkMT5HCjwnU|FIGHT NIGHT VLOG: Unseen Footage From Paddy The...|\n",
            "|          inside the nba|                              gave chills best way|2025-04-17T03:44:43Z|tNsuxrUbOpk|The Crew Reacts to the Warriors Win Over Memphi...|\n",
            "|          inside the nba|                   jalen green gon make leap kenny|2025-04-17T03:43:24Z|tNsuxrUbOpk|The Crew Reacts to the Warriors Win Over Memphi...|\n",
            "|paddy the baddy pimblett|                                             beast|2025-04-17T03:43:07Z|MkMT5HCjwnU|FIGHT NIGHT VLOG: Unseen Footage From Paddy The...|\n",
            "|paddy the baddy pimblett|                                     congrats 1010|2025-04-17T03:37:50Z|MkMT5HCjwnU|FIGHT NIGHT VLOG: Unseen Footage From Paddy The...|\n",
            "|paddy the baddy pimblett|                                        king north|2025-04-17T03:37:44Z|MkMT5HCjwnU|FIGHT NIGHT VLOG: Unseen Footage From Paddy The...|\n",
            "|        hololive english|yagoo company burning stop eating dog bro fix c...|2025-04-17T03:35:03Z|bthtAJiE3iE|Hololive&#39;s Gawr Gura is Quitting #hololive ...|\n",
            "|paddy the baddy pimblett|               well done sir keep outstanding work|2025-04-17T03:31:05Z|MkMT5HCjwnU|FIGHT NIGHT VLOG: Unseen Footage From Paddy The...|\n",
            "|paddy the baddy pimblett|congrats scouser ive enjoyed watching journey c...|2025-04-17T03:29:57Z|MkMT5HCjwnU|FIGHT NIGHT VLOG: Unseen Footage From Paddy The...|\n",
            "|          inside the nba|                    learned minutes hours googling|2025-04-17T03:29:23Z|tNsuxrUbOpk|The Crew Reacts to the Warriors Win Over Memphi...|\n",
            "|paddy the baddy pimblett|1002 wowis mark colemanman looks rough mean hes...|2025-04-17T03:28:52Z|MkMT5HCjwnU|FIGHT NIGHT VLOG: Unseen Footage From Paddy The...|\n",
            "|paddy the baddy pimblett|ill punch face little sausage god scousers poet...|2025-04-17T03:28:19Z|MkMT5HCjwnU|FIGHT NIGHT VLOG: Unseen Footage From Paddy The...|\n",
            "|          inside the nba|                         way explained clear thank|2025-04-17T03:25:59Z|tNsuxrUbOpk|The Crew Reacts to the Warriors Win Over Memphi...|\n",
            "|          inside the nba|                       mood instantly lifted thank|2025-04-17T03:25:42Z|tNsuxrUbOpk|The Crew Reacts to the Warriors Win Over Memphi...|\n",
            "|          inside the nba|                                 pure talent words|2025-04-17T03:25:41Z|tNsuxrUbOpk|The Crew Reacts to the Warriors Win Over Memphi...|\n",
            "+------------------------+--------------------------------------------------+--------------------+-----------+--------------------------------------------------+\n",
            "only showing top 20 rows\n",
            "\n",
            "✅ Mastodon: No new comments found.\n",
            "✅ YouTube: No new comments found.\n",
            "\n",
            "🎉 No more new data in both collections. Exiting...\n"
          ]
        }
      ]
    },
    {
      "cell_type": "code",
      "source": [
        "# Create schemas\n",
        "mastodon_schema = StructType([\n",
        "    StructField(\"tag\", StringType(), True),\n",
        "    StructField(\"text\", StringType(), True),\n",
        "    StructField(\"created_at\", TimestampType(), True),\n",
        "    StructField(\"post_url\", StringType(), True)\n",
        "])\n",
        "\n",
        "youtube_schema = StructType([\n",
        "    StructField(\"tag\", StringType(), True),\n",
        "    StructField(\"text\", StringType(), True),\n",
        "    StructField(\"published_at\", StringType(), True),\n",
        "    StructField(\"video_id\", StringType(), True),\n",
        "    StructField(\"video_title\", StringType(), True)\n",
        "])"
      ],
      "metadata": {
        "id": "yrxk98jOZFPF"
      },
      "execution_count": null,
      "outputs": []
    },
    {
      "cell_type": "code",
      "source": [
        "# Track processed IDs separately\n",
        "processed_mastodon_ids = set()\n",
        "processed_youtube_ids = set()\n",
        "\n",
        "while True:\n",
        "    # Step 1: Process Mastodon comments\n",
        "    mastodon_comments = collection_1.find().sort('created_at', -1).limit(50)\n",
        "\n",
        "    mastodon_list = []\n",
        "    for comment in mastodon_comments:\n",
        "        comment_id = str(comment['_id'])\n",
        "        if comment_id not in processed_mastodon_ids:\n",
        "            mastodon_list.append(Row(\n",
        "                tag=comment.get('tag', ''),\n",
        "                text=comment.get('text', ''),\n",
        "                created_at=comment.get('created_at'),\n",
        "                post_url=comment.get('post_url', '')\n",
        "            ))\n",
        "            processed_mastodon_ids.add(comment_id)\n",
        "\n",
        "    if mastodon_list:\n",
        "        mastodon_df = spark.createDataFrame(mastodon_list, schema=mastodon_schema)\n",
        "        print(f\"\\n📜 Mastodon: Processing {len(mastodon_list)} comments\")\n",
        "        mastodon_df.show(truncate=50)\n",
        "\n",
        "        for row in mastodon_df.collect():\n",
        "            text = row['text']\n",
        "            if text:\n",
        "                sentiment = sentiment_pipeline(text[:512])[0]\n",
        "                label = sentiment['label']\n",
        "                confidence = sentiment['score']\n",
        "\n",
        "                cache_key = f\"mastodon:{row['post_url']}\"\n",
        "                cache_value = {\n",
        "                    'platform': 'mastodon',\n",
        "                    'tag': row['tag'],\n",
        "                    'text': text,\n",
        "                    'sentiment': label,\n",
        "                    'confidence': confidence,\n",
        "                    'created_at': str(row['created_at']),\n",
        "                    'post_url': row['post_url']\n",
        "                }\n",
        "                redis_client.set(cache_key, json.dumps(cache_value), ex=600)\n",
        "    else:\n",
        "        print(\"✅ Mastodon: No new comments found.\")\n",
        "\n",
        "    # Step 2: Process YouTube comments\n",
        "    youtube_comments = collection_2.find().sort('published_at', -1).limit(50)\n",
        "\n",
        "    youtube_list = []\n",
        "    for comment in youtube_comments:\n",
        "        comment_id = str(comment['_id'])\n",
        "        if comment_id not in processed_youtube_ids:\n",
        "            youtube_list.append(Row(\n",
        "                tag=comment.get('tag', ''),\n",
        "                text=comment.get('text', ''),\n",
        "                published_at=comment.get('published_at'),\n",
        "                video_id=comment.get('video_id', ''),\n",
        "                video_title=comment.get('video_title', '')\n",
        "            ))\n",
        "            processed_youtube_ids.add(comment_id)\n",
        "\n",
        "    if youtube_list:\n",
        "        youtube_df = spark.createDataFrame(youtube_list, schema=youtube_schema)\n",
        "        print(f\"\\n📜 YouTube: Processing {len(youtube_list)} comments\")\n",
        "        youtube_df.show(truncate=50)\n",
        "\n",
        "        for row in youtube_df.collect():\n",
        "            text = row['text']\n",
        "            if text:\n",
        "                sentiment = sentiment_pipeline(text[:512])[0]\n",
        "                label = sentiment['label']\n",
        "                confidence = sentiment['score']\n",
        "\n",
        "                cache_key = f\"youtube:{row['video_id']}\"\n",
        "                cache_value = {\n",
        "                    'platform': 'youtube',\n",
        "                    'tag': row['tag'],\n",
        "                    'text': text,\n",
        "                    'sentiment': label,\n",
        "                    'confidence': confidence,\n",
        "                    'published_at': str(row['published_at']),\n",
        "                    'video_id': row['video_id'],\n",
        "                    'video_title': row['video_title']\n",
        "                }\n",
        "                redis_client.set(cache_key, json.dumps(cache_value), ex=600)\n",
        "    else:\n",
        "        print(\"✅ YouTube: No new comments found.\")\n",
        "\n",
        "    # 💥 Stop condition: if both Mastodon and YouTube have no new comments\n",
        "    if not mastodon_list and not youtube_list:\n",
        "        print(\"\\n🎉 No more new data in both collections. Exiting...\")\n",
        "        break\n",
        "\n",
        "    time.sleep(10)  # Sleep for 10 seconds before the next iteration"
      ],
      "metadata": {
        "id": "03tu_YYhZIrs"
      },
      "execution_count": null,
      "outputs": []
    },
    {
      "cell_type": "code",
      "source": [
        "# List all keys\n",
        "keys = redis_client.keys('*')\n",
        "print(\"All keys in Redis:\", keys)\n",
        "\n",
        "# Pick one key and get its value\n",
        "for key in keys:\n",
        "    # key is already a string, no need to decode\n",
        "    value = redis_client.get(key)\n",
        "    if isinstance(value, bytes):\n",
        "        value = value.decode('utf-8')  # Decode if value is in bytes\n",
        "\n",
        "    print(f\"\\nKey: {key}\")\n",
        "    print(f\"Value: {value}\")\n"
      ],
      "metadata": {
        "colab": {
          "base_uri": "https://localhost:8080/"
        },
        "id": "L3Nfow3sLezQ",
        "outputId": "87d5f997-427f-41ad-e18d-08dd91489d0f"
      },
      "execution_count": 23,
      "outputs": [
        {
          "output_type": "stream",
          "name": "stdout",
          "text": [
            "All keys in Redis: ['youtube:7Qudtm702v4', 'mastodon:https://chaos.social/@minkorrekt/114354195908604624', 'youtube:bthtAJiE3iE', 'mastodon:https://kolektiva.social/@johnbrowntypebeats/114354013957301701', 'mastodon:https://mastodon.social/@OldSchool63/114356586051075352', 'mastodon:https://mastodon.gamedev.place/@HaafAndHammar/114406812980104136', 'mastodon:https://kind.social/@empyreon/114407830618400411', 'youtube:DJf04cdgk70', 'mastodon:https://mastodon.social/@limebar/114354114571482860', 'mastodon:https://gardenstate.social/@BlowUpRadio/114353946008727230', 'youtube:BD4HQmczHoo', 'youtube:MkMT5HCjwnU', 'mastodon:https://mastodon.social/@SKleefeld/114400415439556358', 'youtube:tNsuxrUbOpk', 'mastodon:https://c.im/@jake4480/114394247589967767', 'mastodon:https://nham.co.uk/2025/04/11714/', 'mastodon:https://cupoftea.social/@Gaolaitch/114383865907889514', 'mastodon:https://mastodon.social/@geoff_eg/114395574072985295', 'mastodon:https://esq.social/@D_J_Nathanson/114353709962713077', 'mastodon:https://boriken.social/@mediopocillo/114356000630914733', 'mastodon:https://eldritch.cafe/@HauntedOwlbear/114394294803373056', 'mastodon:https://dice.camp/@tuonel/114396357023350705']\n",
            "\n",
            "Key: youtube:7Qudtm702v4\n",
            "Value: {\"platform\": \"youtube\", \"tag\": \"paddy the baddy next fight\", \"text\": \"paddy baddy lets fking\", \"sentiment\": \"NEGATIVE\", \"confidence\": 0.9858637452125549, \"published_at\": \"2025-04-16T15:06:22Z\", \"video_id\": \"7Qudtm702v4\", \"video_title\": \"UFC 314: Paddy Pimblett vs Michael Chandler Highlights\"}\n",
            "\n",
            "Key: mastodon:https://chaos.social/@minkorrekt/114354195908604624\n",
            "Value: {\"platform\": \"mastodon\", \"tag\": \"#throwbackthursday\", \"text\": \"ist durchoxidiert\", \"sentiment\": \"NEGATIVE\", \"confidence\": 0.9897712469100952, \"created_at\": \"2025-04-17 16:21:47\", \"post_url\": \"https://chaos.social/@minkorrekt/114354195908604624\"}\n",
            "\n",
            "Key: youtube:bthtAJiE3iE\n",
            "Value: {\"platform\": \"youtube\", \"tag\": \"hololive english\", \"text\": \"hololive went public new management want slaves like niji talents leaving\", \"sentiment\": \"NEGATIVE\", \"confidence\": 0.9982796907424927, \"published_at\": \"2025-04-16T19:39:51Z\", \"video_id\": \"bthtAJiE3iE\", \"video_title\": \"Hololive&#39;s Gawr Gura is Quitting #hololive #hololiveenglish #vtuber\"}\n",
            "\n",
            "Key: mastodon:https://kolektiva.social/@johnbrowntypebeats/114354013957301701\n",
            "Value: {\"platform\": \"mastodon\", \"tag\": \"#thursdayfivelist\", \"text\": \"indestructible one power jams need get shit done\", \"sentiment\": \"NEGATIVE\", \"confidence\": 0.9863112568855286, \"created_at\": \"2025-04-17 15:34:56\", \"post_url\": \"https://kolektiva.social/@johnbrowntypebeats/114354013957301701\"}\n",
            "\n",
            "Key: mastodon:https://mastodon.social/@OldSchool63/114356586051075352\n",
            "Value: {\"platform\": \"mastodon\", \"tag\": \"#morecowbell\", \"text\": \"many paul simon peter gabriel songs could fit bill also sting\", \"sentiment\": \"POSITIVE\", \"confidence\": 0.5289585590362549, \"created_at\": \"2025-04-18 02:25:54\", \"post_url\": \"https://mastodon.social/@OldSchool63/114356586051075352\"}\n",
            "\n",
            "Key: mastodon:https://mastodon.gamedev.place/@HaafAndHammar/114406812980104136\n",
            "Value: {\"platform\": \"mastodon\", \"tag\": \"#screenshotsaturday\", \"text\": \"really enjoy boardgamebecamereal look youre making\", \"sentiment\": \"POSITIVE\", \"confidence\": 0.9992526173591614, \"created_at\": \"2025-04-27 01:50:55\", \"post_url\": \"https://mastodon.gamedev.place/@HaafAndHammar/114406812980104136\"}\n",
            "\n",
            "Key: mastodon:https://kind.social/@empyreon/114407830618400411\n",
            "Value: {\"platform\": \"mastodon\", \"tag\": \"#screenshotsaturday\", \"text\": \"icons right recipe buttons indicate ingredient categorytypes needed salt shaker indicates seasonings optional requirednot pictured hovering recipe name gives popup description flavor text hovering recipes ingredients give one name hovering salt shaker gives one categories seasonings used\", \"sentiment\": \"NEGATIVE\", \"confidence\": 0.9900790452957153, \"created_at\": \"2025-04-27 03:40:51\", \"post_url\": \"https://kind.social/@empyreon/114407830618400411\"}\n",
            "\n",
            "Key: youtube:DJf04cdgk70\n",
            "Value: {\"platform\": \"youtube\", \"tag\": \"fighter\", \"text\": \"fighter best\", \"sentiment\": \"POSITIVE\", \"confidence\": 0.9996808767318726, \"published_at\": \"2025-04-16T17:03:12Z\", \"video_id\": \"DJf04cdgk70\", \"video_title\": \"TALI \\u2013 Fighter (Official Music Video - Eurovision 2024)\"}\n",
            "\n",
            "Key: mastodon:https://mastodon.social/@limebar/114354114571482860\n",
            "Value: {\"platform\": \"mastodon\", \"tag\": \"#throwbackthursday\", \"text\": \"youve read book tell think capturing head back imagined would movie would feature track well movie came went nobody called dont know movie good\", \"sentiment\": \"NEGATIVE\", \"confidence\": 0.9882678389549255, \"created_at\": \"2025-04-17 16:27:52.467000\", \"post_url\": \"https://mastodon.social/@limebar/114354114571482860\"}\n",
            "\n",
            "Key: mastodon:https://gardenstate.social/@BlowUpRadio/114353946008727230\n",
            "Value: {\"platform\": \"mastodon\", \"tag\": \"#fantasticfour\", \"text\": \"would awesome part hoping beyond hope cloak dagger make return screens part daredevils army next season show awesome deserved better fatealso happy prominence mark gatiss new trailer\", \"sentiment\": \"NEGATIVE\", \"confidence\": 0.5229003429412842, \"created_at\": \"2025-04-17 15:16:12.118000\", \"post_url\": \"https://gardenstate.social/@BlowUpRadio/114353946008727230\"}\n",
            "\n",
            "Key: youtube:BD4HQmczHoo\n",
            "Value: {\"platform\": \"youtube\", \"tag\": \"fight\", \"text\": \"foreigners gym etiquette seems lacking considerably good luck trying reason immigrants simply want assimilate american culture last comment dont ever bring gym equipment possible gun fight lose\", \"sentiment\": \"NEGATIVE\", \"confidence\": 0.9988983869552612, \"published_at\": \"2025-04-16T13:37:13Z\", \"video_id\": \"BD4HQmczHoo\", \"video_title\": \"Gym Fight over a Cable Machine \\ud83e\\udd14 \\ud83d\\udcaa\\ud83c\\udffc Let\\u2019s see who Wins \\ud83c\\udfc6 #fighting #gym #fighter #shorts #viral\"}\n",
            "\n",
            "Key: youtube:MkMT5HCjwnU\n",
            "Value: {\"platform\": \"youtube\", \"tag\": \"paddy the baddy pimblett\", \"text\": \"ill punch face little sausage god scousers poetic arent\", \"sentiment\": \"NEGATIVE\", \"confidence\": 0.996232807636261, \"published_at\": \"2025-04-17T03:28:19Z\", \"video_id\": \"MkMT5HCjwnU\", \"video_title\": \"FIGHT NIGHT VLOG: Unseen Footage From Paddy The Baddy&#39;s STATEMENT WIN at UFC 314\"}\n",
            "\n",
            "Key: mastodon:https://mastodon.social/@SKleefeld/114400415439556358\n",
            "Value: {\"platform\": \"mastodon\", \"tag\": \"#fantasticfour\", \"text\": \"also fraction\", \"sentiment\": \"POSITIVE\", \"confidence\": 0.9905111193656921, \"created_at\": \"2025-04-26 04:22:49\", \"post_url\": \"https://mastodon.social/@SKleefeld/114400415439556358\"}\n",
            "\n",
            "Key: youtube:tNsuxrUbOpk\n",
            "Value: {\"platform\": \"youtube\", \"tag\": \"inside the nba\", \"text\": \"consistency inspiringkeep going\", \"sentiment\": \"POSITIVE\", \"confidence\": 0.9998639822006226, \"published_at\": \"2025-04-17T03:20:02Z\", \"video_id\": \"tNsuxrUbOpk\", \"video_title\": \"The Crew Reacts to the Warriors Win Over Memphis \\ud83d\\ude24 | NBA on TNT\"}\n",
            "\n",
            "Key: mastodon:https://c.im/@jake4480/114394247589967767\n",
            "Value: {\"platform\": \"mastodon\", \"tag\": \"#thursdayfivelist\", \"text\": \"great list\", \"sentiment\": \"POSITIVE\", \"confidence\": 0.9998451471328735, \"created_at\": \"2025-04-24 19:20:15\", \"post_url\": \"https://c.im/@jake4480/114394247589967767\"}\n",
            "\n",
            "Key: mastodon:https://nham.co.uk/2025/04/11714/\n",
            "Value: {\"platform\": \"mastodon\", \"tag\": \"#thursdayfivelist\", \"text\": \"nice onegiving others listen\", \"sentiment\": \"POSITIVE\", \"confidence\": 0.9993075132369995, \"created_at\": \"2025-04-25 10:04:10\", \"post_url\": \"https://nham.co.uk/2025/04/11714/\"}\n",
            "\n",
            "Key: mastodon:https://cupoftea.social/@Gaolaitch/114383865907889514\n",
            "Value: {\"platform\": \"mastodon\", \"tag\": \"#complaintsongsorpoems\", \"text\": \"ten minutes later email another client delaying delivery overdue piece six weeks extra time opens songs gargantua vagaries composerly clients tend average\", \"sentiment\": \"NEGATIVE\", \"confidence\": 0.9979109168052673, \"created_at\": \"2025-04-22 22:37:13\", \"post_url\": \"https://cupoftea.social/@Gaolaitch/114383865907889514\"}\n",
            "\n",
            "Key: mastodon:https://mastodon.social/@geoff_eg/114395574072985295\n",
            "Value: {\"platform\": \"mastodon\", \"tag\": \"#throwbackthursday\", \"text\": \"see future\", \"sentiment\": \"POSITIVE\", \"confidence\": 0.9985507130622864, \"created_at\": \"2025-04-25 04:38:33.838000\", \"post_url\": \"https://mastodon.social/@geoff_eg/114395574072985295\"}\n",
            "\n",
            "Key: mastodon:https://esq.social/@D_J_Nathanson/114353709962713077\n",
            "Value: {\"platform\": \"mastodon\", \"tag\": \"#thursdayfivelist\", \"text\": \"right btw thought getting together seem going isla supposed next big thing like years ago got screwed management good see back heres favorite one aj\\u00e1 like blackest afroboricua drumming ever love calle13 ren\\u00e9 puya\", \"sentiment\": \"NEGATIVE\", \"confidence\": 0.9914596080780029, \"created_at\": \"2025-04-17 14:40:27.699000\", \"post_url\": \"https://esq.social/@D_J_Nathanson/114353709962713077\"}\n",
            "\n",
            "Key: mastodon:https://boriken.social/@mediopocillo/114356000630914733\n",
            "Value: {\"platform\": \"mastodon\", \"tag\": \"#morecowbell\", \"text\": \"soy bad bunny explicit tiny deskla clave bien temperada william ortiz alvarado dir jos\\u00e9 alicea espada ensemble22thursdayfivelist morecowbell\", \"sentiment\": \"NEGATIVE\", \"confidence\": 0.9832756519317627, \"created_at\": \"2025-04-17 23:54:52\", \"post_url\": \"https://boriken.social/@mediopocillo/114356000630914733\"}\n",
            "\n",
            "Key: mastodon:https://eldritch.cafe/@HauntedOwlbear/114394294803373056\n",
            "Value: {\"platform\": \"mastodon\", \"tag\": \"#thursdayfivelist\", \"text\": \"well also choose titles honestly find interesting way\", \"sentiment\": \"POSITIVE\", \"confidence\": 0.9990801811218262, \"created_at\": \"2025-04-24 18:21:50.651000\", \"post_url\": \"https://eldritch.cafe/@HauntedOwlbear/114394294803373056\"}\n",
            "\n",
            "Key: mastodon:https://dice.camp/@tuonel/114396357023350705\n",
            "Value: {\"platform\": \"mastodon\", \"tag\": \"#throwbackthursday\", \"text\": \"love model youve got looking great far\", \"sentiment\": \"POSITIVE\", \"confidence\": 0.9996896982192993, \"created_at\": \"2025-04-25 10:22:17\", \"post_url\": \"https://dice.camp/@tuonel/114396357023350705\"}\n"
          ]
        }
      ]
    },
    {
      "cell_type": "code",
      "source": [
        "# # remove data in redis\n",
        "# redis_client.flushdb()"
      ],
      "metadata": {
        "id": "PGrfh-K2Edh6",
        "colab": {
          "base_uri": "https://localhost:8080/"
        },
        "outputId": "f3b8880b-21e5-4bf0-b6d8-aa47dc557bc1"
      },
      "execution_count": 20,
      "outputs": [
        {
          "output_type": "execute_result",
          "data": {
            "text/plain": [
              "True"
            ]
          },
          "metadata": {},
          "execution_count": 20
        }
      ]
    },
    {
      "cell_type": "code",
      "source": [],
      "metadata": {
        "id": "UZ5EdJggXUEP"
      },
      "execution_count": null,
      "outputs": []
    }
  ]
}